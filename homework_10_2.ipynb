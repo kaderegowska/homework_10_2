{
  "nbformat": 4,
  "nbformat_minor": 0,
  "metadata": {
    "colab": {
      "provenance": []
    },
    "kernelspec": {
      "name": "python3",
      "display_name": "Python 3"
    },
    "language_info": {
      "name": "python"
    }
  },
  "cells": [
    {
      "cell_type": "code",
      "execution_count": 1,
      "metadata": {
        "id": "H9T98UCSLFLg"
      },
      "outputs": [],
      "source": [
        "import numpy as np\n",
        "import pandas as pd\n",
        "\n",
        "import matplotlib.pyplot as plt\n",
        "import seaborn as sns\n",
        "\n",
        "from scipy import stats"
      ]
    },
    {
      "cell_type": "code",
      "source": [
        "hundred=np.random.normal(loc=3.0, scale=1.0, size=100)"
      ],
      "metadata": {
        "id": "f0WKfVhLLWWR"
      },
      "execution_count": 2,
      "outputs": []
    },
    {
      "cell_type": "code",
      "source": [
        "median_hundred = np.median(hundred)\n",
        "mode_hundred = stats.mode(hundred)\n",
        "q0_hundred = np.quantile(hundred, 0.0)\n",
        "q1_hundred = np.quantile(hundred, 0.25)\n",
        "q3_hundred = np.quantile(hundred, 0.75)\n",
        "q4_hundred = np.quantile(hundred, 1.0)\n",
        "print(median_hundred)\n",
        "print(mode_hundred)\n",
        "print(q0_hundred)\n",
        "print(q1_hundred)\n",
        "print(q3_hundred)\n",
        "print(q4_hundred)"
      ],
      "metadata": {
        "colab": {
          "base_uri": "https://localhost:8080/"
        },
        "id": "HmkbshD7L0ts",
        "outputId": "588b9289-77b2-4e41-f6fb-b5e8217d5b64"
      },
      "execution_count": 3,
      "outputs": [
        {
          "output_type": "stream",
          "name": "stdout",
          "text": [
            "2.819985313362465\n",
            "ModeResult(mode=array([0.09220098]), count=array([1]))\n",
            "0.09220097963314444\n",
            "2.1853254736696033\n",
            "3.5610926396427054\n",
            "5.659902463826634\n"
          ]
        }
      ]
    },
    {
      "cell_type": "code",
      "source": [
        "plt.hist(hundred, bins=20)\n",
        "plt.axvline(x = median_hundred, color='green', label = 'Mediana')\n",
        "plt.axvline(x = mode_hundred[0], color='orange', label = 'Moda')\n",
        "plt.axvline(x = q0_hundred, color='black', label = 'Min')\n",
        "plt.axvline(x = q1_hundred, color='black', label = 'Q1')\n",
        "plt.axvline(x = q3_hundred, color='black', label = 'Q3')\n",
        "plt.axvline(x = q4_hundred, color='black', label = 'Max')\n",
        "plt.legend(loc='upper right')\n",
        "plt.show()"
      ],
      "metadata": {
        "colab": {
          "base_uri": "https://localhost:8080/",
          "height": 265
        },
        "id": "m-Nw5RQlMZaW",
        "outputId": "b361adb8-11e4-4444-93a0-e37a45f79743"
      },
      "execution_count": 4,
      "outputs": [
        {
          "output_type": "display_data",
          "data": {
            "text/plain": [
              "<Figure size 432x288 with 1 Axes>"
            ],
            "image/png": "[encoded data removed]"
          },
          "metadata": {
            "needs_background": "light"
          }
        }
      ]
    },
    {
      "cell_type": "code",
      "source": [
        "thousand=np.random.normal(loc=3.0, scale=1.0, size=1000)"
      ],
      "metadata": {
        "id": "rbu8H0IxLsEj"
      },
      "execution_count": 9,
      "outputs": []
    },
    {
      "cell_type": "code",
      "source": [
        "median_thousand = np.median(thousand)\n",
        "mode_thousand = stats.mode(thousand)\n",
        "q0_thousand = np.quantile(thousand, 0.0)\n",
        "q1_thousand = np.quantile(thousand, 0.25)\n",
        "q3_thousand = np.quantile(thousand, 0.75)\n",
        "q4_thousand = np.quantile(thousand, 1.0)\n",
        "print(median_thousand)\n",
        "print(mode_thousand)\n",
        "print(q0_thousand)\n",
        "print(q1_thousand)\n",
        "print(q3_thousand)\n",
        "print(q4_thousand)"
      ],
      "metadata": {
        "colab": {
          "base_uri": "https://localhost:8080/"
        },
        "id": "mUlvGBTcN0Tx",
        "outputId": "78744543-2ed5-4305-f9bf-0f5226638fc7"
      },
      "execution_count": 10,
      "outputs": [
        {
          "output_type": "stream",
          "name": "stdout",
          "text": [
            "3.0078529579974047\n",
            "ModeResult(mode=array([0.06710525]), count=array([1]))\n",
            "0.06710524729294098\n",
            "2.326076242126629\n",
            "3.684566209642229\n",
            "5.824278455478396\n"
          ]
        }
      ]
    },
    {
      "cell_type": "code",
      "source": [
        "plt.hist(thousand, bins=20)\n",
        "plt.axvline(x = median_thousand, color='green', label = 'Mediana')\n",
        "plt.axvline(x = mode_thousand[0], color='orange', label = 'Moda')\n",
        "plt.axvline(x = q0_thousand, color='black', label = 'Min')\n",
        "plt.axvline(x = q1_thousand, color='black', label = 'Q1')\n",
        "plt.axvline(x = q3_thousand, color='black', label = 'Q3')\n",
        "plt.axvline(x = q4_thousand, color='black', label = 'Max')\n",
        "plt.legend(loc='upper right')\n",
        "plt.show()"
      ],
      "metadata": {
        "colab": {
          "base_uri": "https://localhost:8080/",
          "height": 265
        },
        "id": "8ApTM0GXOQAN",
        "outputId": "89121238-1c98-4bd2-b77c-b318cdaef994"
      },
      "execution_count": 11,
      "outputs": [
        {
          "output_type": "display_data",
          "data": {
            "text/plain": [
              "<Figure size 432x288 with 1 Axes>"
            ],
            "image/png": "[encoded data removed]"
          },
          "metadata": {
            "needs_background": "light"
          }
        }
      ]
    },
    {
      "cell_type": "code",
      "source": [
        "# Jak można zauważyć na powyższych przykładach, histogram zbudowany na podstawie 1000 danych charakteryzuje się większą regularnością i symetrycznością niż ten liczący 100 danych.\n",
        "# Na histogramie drugim wartości skupiają się głównie wokół średniej, natomiast na pierwszym są rozłożone nieregularnie, nawet w dalekiej odległości od średniej.\n",
        "# Na podstawie histogramu nr 2 można oszacować położenie średniej, natomiast przy histogramie nr 1 byłoby to trudne, ze względu na dużą ilość wartości skrajnych."
      ],
      "metadata": {
        "id": "MXrfG8eGs8O6"
      },
      "execution_count": null,
      "outputs": []
    }
  ]
}